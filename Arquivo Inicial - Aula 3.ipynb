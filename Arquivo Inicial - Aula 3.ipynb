{
 "cells": [
  {
   "cell_type": "markdown",
   "metadata": {},
   "source": [
    "# Automação Web e Busca de Informações com Python\n",
    "\n",
    "#### Desafio: \n",
    "\n",
    "Trabalhamos em uma importadora e o preço dos nossos produtos é vinculado a cotação de:\n",
    "- Dólar\n",
    "- Euro\n",
    "- Ouro\n",
    "\n",
    "Precisamos pegar na internet, de forma automática, a cotação desses 3 itens e saber quanto devemos cobrar pelos nossos produtos, considerando uma margem de contribuição que temos na nossa base de dados.\n",
    "\n",
    "Base de Dados: https://drive.google.com/drive/folders/1KmAdo593nD8J9QBaZxPOG1yxHZua4Rtv?usp=sharing\n",
    "\n",
    "Para isso, vamos criar uma automação web:\n",
    "\n",
    "- Usaremos o selenium\n",
    "- Importante: baixar o webdriver"
   ]
  },
  {
   "cell_type": "code",
   "execution_count": 1,
   "metadata": {},
   "outputs": [],
   "source": [
    "from selenium import webdriver\n",
    "from selenium.webdriver.common.keys import Keys\n",
    "from selenium.webdriver.common.by import By\n",
    "import pandas as pd"
   ]
  },
  {
   "cell_type": "markdown",
   "metadata": {},
   "source": [
    "#### COTAÇÃO DÓLAR"
   ]
  },
  {
   "cell_type": "code",
   "execution_count": 2,
   "metadata": {},
   "outputs": [
    {
     "name": "stdout",
     "output_type": "stream",
     "text": [
      "5.0891\n"
     ]
    }
   ],
   "source": [
    "navegador = webdriver.Chrome()\n",
    "\n",
    "navegador.get('https://www.google.com/') # Entrar no google\n",
    "navegador.find_element(By.XPATH, #xpath é o caminho do elemento no site do google\n",
    "    '/html/body/div[1]/div[3]/form/div[1]/div[1]/div[1]/div/div[2]/input'\n",
    "     ).send_keys( 'cotação dólar hoje') #send_keys digita oq queremos \n",
    "\n",
    "navegador.find_element(By.XPATH, \n",
    "    '/html/body/div[1]/div[3]/form/div[1]/div[1]/div[1]/div/div[2]/input'\n",
    "     ).send_keys(Keys.ENTER) # Apertar Enter\n",
    "\n",
    "cotacao_dolar = navegador.find_element(By.XPATH, \n",
    "    '//*[@id=\"knowledge-currency__updatable-data-column\"]/div[1]/div[2]/span[1]' #xpath do elemento cotação\n",
    "     ).get_attribute('data-value') #Pegar a cotação indicada\n",
    "print(cotacao_dolar)"
   ]
  },
  {
   "cell_type": "markdown",
   "metadata": {},
   "source": [
    "#### COTAÇÃO EURO\n",
    "\n"
   ]
  },
  {
   "cell_type": "code",
   "execution_count": 3,
   "metadata": {},
   "outputs": [
    {
     "name": "stdout",
     "output_type": "stream",
     "text": [
      "5.5169999999999995\n"
     ]
    }
   ],
   "source": [
    "navegador.get('https://www.google.com/') # Entrar no google\n",
    "navegador.find_element(By.XPATH, #xpath é o caminho do elemento no site do google\n",
    "    '/html/body/div[1]/div[3]/form/div[1]/div[1]/div[1]/div/div[2]/input'\n",
    "     ).send_keys( 'cotação euro hoje') #send_keys digita oq queremos \n",
    "\n",
    "navegador.find_element(By.XPATH, \n",
    "    '/html/body/div[1]/div[3]/form/div[1]/div[1]/div[1]/div/div[2]/input'\n",
    "     ).send_keys(Keys.ENTER) # Apertar Enter\n",
    "\n",
    "cotacao_euro = navegador.find_element(By.XPATH, \n",
    "    '//*[@id=\"knowledge-currency__updatable-data-column\"]/div[1]/div[2]/span[1]' #xpath do elemento cotação\n",
    "     ).get_attribute('data-value') #Pegar a cotação indicada\n",
    "print(cotacao_euro)"
   ]
  },
  {
   "cell_type": "markdown",
   "metadata": {},
   "source": [
    "#### COTAÇÃO OURO"
   ]
  },
  {
   "cell_type": "code",
   "execution_count": 4,
   "metadata": {},
   "outputs": [
    {
     "name": "stdout",
     "output_type": "stream",
     "text": [
      "310.99\n"
     ]
    }
   ],
   "source": [
    "navegador.get('https://www.melhorcambio.com/ouro-hoje') # Entrar na cotação do ouro no site melhor cambio\n",
    "cotacao_ouro = navegador.find_element(\n",
    "    By.XPATH, '//*[@id=\"comercial\"]').get_attribute('value') # Pegar a cotação\n",
    "cotacao_ouro = cotacao_ouro.replace(',', '.') # Substituir a vírgula pelo ponto\n",
    "print(cotacao_ouro)"
   ]
  },
  {
   "cell_type": "code",
   "execution_count": 5,
   "metadata": {},
   "outputs": [],
   "source": [
    "navegador.quit()"
   ]
  },
  {
   "cell_type": "markdown",
   "metadata": {},
   "source": [
    "### Agora vamos atualiza a nossa base de preços com as novas cotações"
   ]
  },
  {
   "cell_type": "markdown",
   "metadata": {},
   "source": [
    "- Importando a base de dados"
   ]
  },
  {
   "cell_type": "code",
   "execution_count": 6,
   "metadata": {
    "scrolled": true
   },
   "outputs": [
    {
     "data": {
      "text/html": [
       "<div>\n",
       "<style scoped>\n",
       "    .dataframe tbody tr th:only-of-type {\n",
       "        vertical-align: middle;\n",
       "    }\n",
       "\n",
       "    .dataframe tbody tr th {\n",
       "        vertical-align: top;\n",
       "    }\n",
       "\n",
       "    .dataframe thead th {\n",
       "        text-align: right;\n",
       "    }\n",
       "</style>\n",
       "<table border=\"1\" class=\"dataframe\">\n",
       "  <thead>\n",
       "    <tr style=\"text-align: right;\">\n",
       "      <th></th>\n",
       "      <th>Produtos</th>\n",
       "      <th>Preço Original</th>\n",
       "      <th>Moeda</th>\n",
       "      <th>Cotação</th>\n",
       "      <th>Preço de Compra</th>\n",
       "      <th>Margem</th>\n",
       "      <th>Preço de Venda</th>\n",
       "    </tr>\n",
       "  </thead>\n",
       "  <tbody>\n",
       "    <tr>\n",
       "      <th>0</th>\n",
       "      <td>Câmera Canon</td>\n",
       "      <td>999.99</td>\n",
       "      <td>Dólar</td>\n",
       "      <td>5</td>\n",
       "      <td>4999.95</td>\n",
       "      <td>1.4</td>\n",
       "      <td>6999.930</td>\n",
       "    </tr>\n",
       "    <tr>\n",
       "      <th>1</th>\n",
       "      <td>Carro Renault</td>\n",
       "      <td>4500.00</td>\n",
       "      <td>Euro</td>\n",
       "      <td>6</td>\n",
       "      <td>27000.00</td>\n",
       "      <td>2.0</td>\n",
       "      <td>54000.000</td>\n",
       "    </tr>\n",
       "    <tr>\n",
       "      <th>2</th>\n",
       "      <td>Notebook Dell</td>\n",
       "      <td>899.99</td>\n",
       "      <td>Dólar</td>\n",
       "      <td>5</td>\n",
       "      <td>4499.95</td>\n",
       "      <td>1.7</td>\n",
       "      <td>7649.915</td>\n",
       "    </tr>\n",
       "    <tr>\n",
       "      <th>3</th>\n",
       "      <td>IPhone</td>\n",
       "      <td>799.00</td>\n",
       "      <td>Dólar</td>\n",
       "      <td>5</td>\n",
       "      <td>3995.00</td>\n",
       "      <td>1.7</td>\n",
       "      <td>6791.500</td>\n",
       "    </tr>\n",
       "    <tr>\n",
       "      <th>4</th>\n",
       "      <td>Carro Fiat</td>\n",
       "      <td>3000.00</td>\n",
       "      <td>Euro</td>\n",
       "      <td>6</td>\n",
       "      <td>18000.00</td>\n",
       "      <td>1.9</td>\n",
       "      <td>34200.000</td>\n",
       "    </tr>\n",
       "  </tbody>\n",
       "</table>\n",
       "</div>"
      ],
      "text/plain": [
       "        Produtos  Preço Original  Moeda  Cotação  Preço de Compra  Margem  \\\n",
       "0   Câmera Canon          999.99  Dólar        5          4999.95     1.4   \n",
       "1  Carro Renault         4500.00   Euro        6         27000.00     2.0   \n",
       "2  Notebook Dell          899.99  Dólar        5          4499.95     1.7   \n",
       "3         IPhone          799.00  Dólar        5          3995.00     1.7   \n",
       "4     Carro Fiat         3000.00   Euro        6         18000.00     1.9   \n",
       "\n",
       "   Preço de Venda  \n",
       "0        6999.930  \n",
       "1       54000.000  \n",
       "2        7649.915  \n",
       "3        6791.500  \n",
       "4       34200.000  "
      ]
     },
     "execution_count": 6,
     "metadata": {},
     "output_type": "execute_result"
    }
   ],
   "source": [
    "tabela = pd.read_excel('Produtos.xlsx')\n",
    "tabela.head(5)"
   ]
  },
  {
   "cell_type": "markdown",
   "metadata": {},
   "source": [
    "- Atualizando as cotações na tabela"
   ]
  },
  {
   "cell_type": "code",
   "execution_count": 7,
   "metadata": {},
   "outputs": [
    {
     "data": {
      "text/html": [
       "<div>\n",
       "<style scoped>\n",
       "    .dataframe tbody tr th:only-of-type {\n",
       "        vertical-align: middle;\n",
       "    }\n",
       "\n",
       "    .dataframe tbody tr th {\n",
       "        vertical-align: top;\n",
       "    }\n",
       "\n",
       "    .dataframe thead th {\n",
       "        text-align: right;\n",
       "    }\n",
       "</style>\n",
       "<table border=\"1\" class=\"dataframe\">\n",
       "  <thead>\n",
       "    <tr style=\"text-align: right;\">\n",
       "      <th></th>\n",
       "      <th>Produtos</th>\n",
       "      <th>Preço Original</th>\n",
       "      <th>Moeda</th>\n",
       "      <th>Cotação</th>\n",
       "      <th>Preço de Compra</th>\n",
       "      <th>Margem</th>\n",
       "      <th>Preço de Venda</th>\n",
       "    </tr>\n",
       "  </thead>\n",
       "  <tbody>\n",
       "    <tr>\n",
       "      <th>0</th>\n",
       "      <td>Câmera Canon</td>\n",
       "      <td>999.99</td>\n",
       "      <td>Dólar</td>\n",
       "      <td>5.0891</td>\n",
       "      <td>4999.95</td>\n",
       "      <td>1.4</td>\n",
       "      <td>6999.930</td>\n",
       "    </tr>\n",
       "    <tr>\n",
       "      <th>1</th>\n",
       "      <td>Carro Renault</td>\n",
       "      <td>4500.00</td>\n",
       "      <td>Euro</td>\n",
       "      <td>5.5170</td>\n",
       "      <td>27000.00</td>\n",
       "      <td>2.0</td>\n",
       "      <td>54000.000</td>\n",
       "    </tr>\n",
       "    <tr>\n",
       "      <th>2</th>\n",
       "      <td>Notebook Dell</td>\n",
       "      <td>899.99</td>\n",
       "      <td>Dólar</td>\n",
       "      <td>5.0891</td>\n",
       "      <td>4499.95</td>\n",
       "      <td>1.7</td>\n",
       "      <td>7649.915</td>\n",
       "    </tr>\n",
       "    <tr>\n",
       "      <th>3</th>\n",
       "      <td>IPhone</td>\n",
       "      <td>799.00</td>\n",
       "      <td>Dólar</td>\n",
       "      <td>5.0891</td>\n",
       "      <td>3995.00</td>\n",
       "      <td>1.7</td>\n",
       "      <td>6791.500</td>\n",
       "    </tr>\n",
       "    <tr>\n",
       "      <th>4</th>\n",
       "      <td>Carro Fiat</td>\n",
       "      <td>3000.00</td>\n",
       "      <td>Euro</td>\n",
       "      <td>5.5170</td>\n",
       "      <td>18000.00</td>\n",
       "      <td>1.9</td>\n",
       "      <td>34200.000</td>\n",
       "    </tr>\n",
       "  </tbody>\n",
       "</table>\n",
       "</div>"
      ],
      "text/plain": [
       "        Produtos  Preço Original  Moeda  Cotação  Preço de Compra  Margem  \\\n",
       "0   Câmera Canon          999.99  Dólar   5.0891          4999.95     1.4   \n",
       "1  Carro Renault         4500.00   Euro   5.5170         27000.00     2.0   \n",
       "2  Notebook Dell          899.99  Dólar   5.0891          4499.95     1.7   \n",
       "3         IPhone          799.00  Dólar   5.0891          3995.00     1.7   \n",
       "4     Carro Fiat         3000.00   Euro   5.5170         18000.00     1.9   \n",
       "\n",
       "   Preço de Venda  \n",
       "0        6999.930  \n",
       "1       54000.000  \n",
       "2        7649.915  \n",
       "3        6791.500  \n",
       "4       34200.000  "
      ]
     },
     "execution_count": 7,
     "metadata": {},
     "output_type": "execute_result"
    }
   ],
   "source": [
    "# Localizar na tabela, as cotações em que as linhas da colunao moeda == dolar, e substituir por cotação dolar\n",
    "# O float é usado para garantir que o tipo seja numérico, caso tenha raspado uma string\n",
    "\n",
    "tabela.loc[tabela['Moeda'] == 'Dólar', 'Cotação'] = float(cotacao_dolar) \n",
    "tabela.loc[tabela['Moeda'] == 'Euro', 'Cotação'] = float(cotacao_euro) \n",
    "tabela.loc[tabela['Moeda'] == 'Ouro', 'Cotação'] = float(cotacao_ouro) \n",
    "tabela.head()"
   ]
  },
  {
   "cell_type": "markdown",
   "metadata": {},
   "source": [
    "- Refazendo os cálculos de Preço de compra e Preço de venda"
   ]
  },
  {
   "cell_type": "code",
   "execution_count": 8,
   "metadata": {},
   "outputs": [
    {
     "data": {
      "text/html": [
       "<div>\n",
       "<style scoped>\n",
       "    .dataframe tbody tr th:only-of-type {\n",
       "        vertical-align: middle;\n",
       "    }\n",
       "\n",
       "    .dataframe tbody tr th {\n",
       "        vertical-align: top;\n",
       "    }\n",
       "\n",
       "    .dataframe thead th {\n",
       "        text-align: right;\n",
       "    }\n",
       "</style>\n",
       "<table border=\"1\" class=\"dataframe\">\n",
       "  <thead>\n",
       "    <tr style=\"text-align: right;\">\n",
       "      <th></th>\n",
       "      <th>Produtos</th>\n",
       "      <th>Preço Original</th>\n",
       "      <th>Moeda</th>\n",
       "      <th>Cotação</th>\n",
       "      <th>Preço de Compra</th>\n",
       "      <th>Margem</th>\n",
       "      <th>Preço de Venda</th>\n",
       "    </tr>\n",
       "  </thead>\n",
       "  <tbody>\n",
       "    <tr>\n",
       "      <th>0</th>\n",
       "      <td>Câmera Canon</td>\n",
       "      <td>999.99</td>\n",
       "      <td>Dólar</td>\n",
       "      <td>5.0891</td>\n",
       "      <td>5089.049109</td>\n",
       "      <td>1.4</td>\n",
       "      <td>7124.668753</td>\n",
       "    </tr>\n",
       "    <tr>\n",
       "      <th>1</th>\n",
       "      <td>Carro Renault</td>\n",
       "      <td>4500.00</td>\n",
       "      <td>Euro</td>\n",
       "      <td>5.5170</td>\n",
       "      <td>24826.500000</td>\n",
       "      <td>2.0</td>\n",
       "      <td>49653.000000</td>\n",
       "    </tr>\n",
       "    <tr>\n",
       "      <th>2</th>\n",
       "      <td>Notebook Dell</td>\n",
       "      <td>899.99</td>\n",
       "      <td>Dólar</td>\n",
       "      <td>5.0891</td>\n",
       "      <td>4580.139109</td>\n",
       "      <td>1.7</td>\n",
       "      <td>7786.236485</td>\n",
       "    </tr>\n",
       "    <tr>\n",
       "      <th>3</th>\n",
       "      <td>IPhone</td>\n",
       "      <td>799.00</td>\n",
       "      <td>Dólar</td>\n",
       "      <td>5.0891</td>\n",
       "      <td>4066.190900</td>\n",
       "      <td>1.7</td>\n",
       "      <td>6912.524530</td>\n",
       "    </tr>\n",
       "    <tr>\n",
       "      <th>4</th>\n",
       "      <td>Carro Fiat</td>\n",
       "      <td>3000.00</td>\n",
       "      <td>Euro</td>\n",
       "      <td>5.5170</td>\n",
       "      <td>16551.000000</td>\n",
       "      <td>1.9</td>\n",
       "      <td>31446.900000</td>\n",
       "    </tr>\n",
       "  </tbody>\n",
       "</table>\n",
       "</div>"
      ],
      "text/plain": [
       "        Produtos  Preço Original  Moeda  Cotação  Preço de Compra  Margem  \\\n",
       "0   Câmera Canon          999.99  Dólar   5.0891      5089.049109     1.4   \n",
       "1  Carro Renault         4500.00   Euro   5.5170     24826.500000     2.0   \n",
       "2  Notebook Dell          899.99  Dólar   5.0891      4580.139109     1.7   \n",
       "3         IPhone          799.00  Dólar   5.0891      4066.190900     1.7   \n",
       "4     Carro Fiat         3000.00   Euro   5.5170     16551.000000     1.9   \n",
       "\n",
       "   Preço de Venda  \n",
       "0     7124.668753  \n",
       "1    49653.000000  \n",
       "2     7786.236485  \n",
       "3     6912.524530  \n",
       "4    31446.900000  "
      ]
     },
     "execution_count": 8,
     "metadata": {},
     "output_type": "execute_result"
    }
   ],
   "source": [
    "tabela['Preço de Compra'] = tabela['Preço Original'] * tabela['Cotação']\n",
    "tabela['Preço de Venda'] = tabela['Preço de Compra'] * tabela['Margem']\n",
    "tabela.head()"
   ]
  },
  {
   "cell_type": "markdown",
   "metadata": {},
   "source": [
    "### Agora vamos exportar a nova base de preços atualizada"
   ]
  },
  {
   "cell_type": "code",
   "execution_count": 9,
   "metadata": {},
   "outputs": [],
   "source": [
    "tabela.to_excel('Produtos_atualizado.xlsx', index = False)"
   ]
  },
  {
   "cell_type": "markdown",
   "metadata": {},
   "source": [
    "## Instalaçao das bibliotecas "
   ]
  },
  {
   "cell_type": "code",
   "execution_count": 10,
   "metadata": {},
   "outputs": [
    {
     "name": "stdout",
     "output_type": "stream",
     "text": [
      "Requirement already satisfied: selenium in c:\\users\\nubia\\anaconda3\\lib\\site-packages (4.7.2)\n",
      "Requirement already satisfied: urllib3[socks]~=1.26 in c:\\users\\nubia\\anaconda3\\lib\\site-packages (from selenium) (1.26.4)\n",
      "Requirement already satisfied: certifi>=2021.10.8 in c:\\users\\nubia\\anaconda3\\lib\\site-packages (from selenium) (2022.12.7)\n",
      "Requirement already satisfied: trio~=0.17 in c:\\users\\nubia\\anaconda3\\lib\\site-packages (from selenium) (0.22.0)\n",
      "Requirement already satisfied: trio-websocket~=0.9 in c:\\users\\nubia\\anaconda3\\lib\\site-packages (from selenium) (0.9.2)\n",
      "Requirement already satisfied: outcome in c:\\users\\nubia\\anaconda3\\lib\\site-packages (from trio~=0.17->selenium) (1.2.0)\n",
      "Requirement already satisfied: idna in c:\\users\\nubia\\anaconda3\\lib\\site-packages (from trio~=0.17->selenium) (2.10)\n",
      "Requirement already satisfied: sortedcontainers in c:\\users\\nubia\\anaconda3\\lib\\site-packages (from trio~=0.17->selenium) (2.3.0)\n",
      "Requirement already satisfied: sniffio in c:\\users\\nubia\\anaconda3\\lib\\site-packages (from trio~=0.17->selenium) (1.2.0)\n",
      "Requirement already satisfied: cffi>=1.14 in c:\\users\\nubia\\anaconda3\\lib\\site-packages (from trio~=0.17->selenium) (1.14.5)\n",
      "Requirement already satisfied: async-generator>=1.9 in c:\\users\\nubia\\anaconda3\\lib\\site-packages (from trio~=0.17->selenium) (1.10)\n",
      "Requirement already satisfied: attrs>=19.2.0 in c:\\users\\nubia\\anaconda3\\lib\\site-packages (from trio~=0.17->selenium) (20.3.0)\n",
      "Requirement already satisfied: exceptiongroup>=1.0.0rc9 in c:\\users\\nubia\\anaconda3\\lib\\site-packages (from trio~=0.17->selenium) (1.1.0)\n",
      "Requirement already satisfied: pycparser in c:\\users\\nubia\\anaconda3\\lib\\site-packages (from cffi>=1.14->trio~=0.17->selenium) (2.20)\n",
      "Requirement already satisfied: wsproto>=0.14 in c:\\users\\nubia\\anaconda3\\lib\\site-packages (from trio-websocket~=0.9->selenium) (1.2.0)\n",
      "Requirement already satisfied: PySocks!=1.5.7,<2.0,>=1.5.6 in c:\\users\\nubia\\anaconda3\\lib\\site-packages (from urllib3[socks]~=1.26->selenium) (1.7.1)\n",
      "Requirement already satisfied: h11<1,>=0.9.0 in c:\\users\\nubia\\anaconda3\\lib\\site-packages (from wsproto>=0.14->trio-websocket~=0.9->selenium) (0.14.0)\n"
     ]
    }
   ],
   "source": [
    "!pip install selenium"
   ]
  },
  {
   "cell_type": "code",
   "execution_count": 11,
   "metadata": {},
   "outputs": [
    {
     "name": "stdout",
     "output_type": "stream",
     "text": [
      "Requirement already satisfied: dash==1.20.0 in c:\\users\\nubia\\anaconda3\\lib\\site-packages (1.20.0)\n",
      "Requirement already satisfied: dash-html-components==1.1.3 in c:\\users\\nubia\\anaconda3\\lib\\site-packages (from dash==1.20.0) (1.1.3)\n",
      "Requirement already satisfied: Flask>=1.0.4 in c:\\users\\nubia\\anaconda3\\lib\\site-packages (from dash==1.20.0) (1.1.2)\n",
      "Requirement already satisfied: flask-compress in c:\\users\\nubia\\anaconda3\\lib\\site-packages (from dash==1.20.0) (1.13)\n",
      "Requirement already satisfied: future in c:\\users\\nubia\\anaconda3\\lib\\site-packages (from dash==1.20.0) (0.18.2)\n",
      "Requirement already satisfied: plotly in c:\\users\\nubia\\anaconda3\\lib\\site-packages (from dash==1.20.0) (5.4.0)\n",
      "Requirement already satisfied: dash-core-components==1.16.0 in c:\\users\\nubia\\anaconda3\\lib\\site-packages (from dash==1.20.0) (1.16.0)\n",
      "Requirement already satisfied: dash-renderer==1.9.1 in c:\\users\\nubia\\anaconda3\\lib\\site-packages (from dash==1.20.0) (1.9.1)\n",
      "Requirement already satisfied: dash-table==4.11.3 in c:\\users\\nubia\\anaconda3\\lib\\site-packages (from dash==1.20.0) (4.11.3)\n",
      "Requirement already satisfied: itsdangerous>=0.24 in c:\\users\\nubia\\anaconda3\\lib\\site-packages (from Flask>=1.0.4->dash==1.20.0) (1.1.0)\n",
      "Requirement already satisfied: Werkzeug>=0.15 in c:\\users\\nubia\\anaconda3\\lib\\site-packages (from Flask>=1.0.4->dash==1.20.0) (1.0.1)\n",
      "Requirement already satisfied: click>=5.1 in c:\\users\\nubia\\anaconda3\\lib\\site-packages (from Flask>=1.0.4->dash==1.20.0) (7.1.2)\n",
      "Requirement already satisfied: Jinja2>=2.10.1 in c:\\users\\nubia\\anaconda3\\lib\\site-packages (from Flask>=1.0.4->dash==1.20.0) (2.11.3)\n",
      "Requirement already satisfied: MarkupSafe>=0.23 in c:\\users\\nubia\\anaconda3\\lib\\site-packages (from Jinja2>=2.10.1->Flask>=1.0.4->dash==1.20.0) (1.1.1)\n",
      "Requirement already satisfied: brotli in c:\\users\\nubia\\anaconda3\\lib\\site-packages (from flask-compress->dash==1.20.0) (1.0.9)\n",
      "Requirement already satisfied: tenacity>=6.2.0 in c:\\users\\nubia\\anaconda3\\lib\\site-packages (from plotly->dash==1.20.0) (8.0.1)\n",
      "Requirement already satisfied: six in c:\\users\\nubia\\anaconda3\\lib\\site-packages (from plotly->dash==1.20.0) (1.15.0)\n"
     ]
    }
   ],
   "source": [
    "!pip install dash==1.20.0 "
   ]
  },
  {
   "cell_type": "code",
   "execution_count": null,
   "metadata": {},
   "outputs": [],
   "source": []
  }
 ],
 "metadata": {
  "kernelspec": {
   "display_name": "Python 3",
   "language": "python",
   "name": "python3"
  },
  "language_info": {
   "codemirror_mode": {
    "name": "ipython",
    "version": 3
   },
   "file_extension": ".py",
   "mimetype": "text/x-python",
   "name": "python",
   "nbconvert_exporter": "python",
   "pygments_lexer": "ipython3",
   "version": "3.8.8"
  }
 },
 "nbformat": 4,
 "nbformat_minor": 4
}
